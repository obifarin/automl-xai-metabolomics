{
 "cells": [
  {
   "cell_type": "code",
   "execution_count": null,
   "id": "9d93d91a",
   "metadata": {},
   "outputs": [],
   "source": []
  },
  {
   "cell_type": "code",
   "execution_count": 17,
   "id": "ef484db6",
   "metadata": {},
   "outputs": [],
   "source": [
    "import pandas as pd\n",
    "import numpy as np\n",
    "from sklearn.model_selection import train_test_split"
   ]
  },
  {
   "cell_type": "code",
   "execution_count": 18,
   "id": "4da61ea9",
   "metadata": {},
   "outputs": [],
   "source": [
    "#To ignore warning\n",
    "import warnings\n",
    "warnings.filterwarnings('ignore')"
   ]
  },
  {
   "cell_type": "markdown",
   "id": "4f905c7a",
   "metadata": {},
   "source": [
    "## RCC metabolomics data"
   ]
  },
  {
   "cell_type": "code",
   "execution_count": 19,
   "id": "e32f6141",
   "metadata": {},
   "outputs": [],
   "source": [
    "cohort = pd.read_excel('data/fullcohort.xlsx', index_col=0)"
   ]
  },
  {
   "cell_type": "code",
   "execution_count": 20,
   "id": "afe71c21",
   "metadata": {},
   "outputs": [],
   "source": [
    "# Select the biomarkers for RCC in urine. \n",
    "final_features_ID = {'2-phenylacetamide', \n",
    "                     'lys-Ile/lys-leu', \n",
    "                     'Dibutylamine',\n",
    "                     'hippuric acid',\n",
    "                     'hippurate-mannitol',\n",
    "                     '2-mercaptobenzothiazole',\n",
    "                     'N-acetyl-glucosaminic acid',\n",
    "                     'Groups'}"
   ]
  },
  {
   "cell_type": "code",
   "execution_count": 21,
   "id": "59eb17e3",
   "metadata": {},
   "outputs": [],
   "source": [
    "# numpy random seed.\n",
    "np.random.seed(42)"
   ]
  },
  {
   "cell_type": "code",
   "execution_count": 25,
   "id": "96c3555b",
   "metadata": {},
   "outputs": [],
   "source": [
    "# Transform dataset vis autoscaling \n",
    "df = cohort[list(final_features_ID)]"
   ]
  },
  {
   "cell_type": "code",
   "execution_count": 26,
   "id": "8c7b5e66",
   "metadata": {},
   "outputs": [
    {
     "data": {
      "text/html": [
       "<div>\n",
       "<style scoped>\n",
       "    .dataframe tbody tr th:only-of-type {\n",
       "        vertical-align: middle;\n",
       "    }\n",
       "\n",
       "    .dataframe tbody tr th {\n",
       "        vertical-align: top;\n",
       "    }\n",
       "\n",
       "    .dataframe thead th {\n",
       "        text-align: right;\n",
       "    }\n",
       "</style>\n",
       "<table border=\"1\" class=\"dataframe\">\n",
       "  <thead>\n",
       "    <tr style=\"text-align: right;\">\n",
       "      <th></th>\n",
       "      <th>hippurate-mannitol</th>\n",
       "      <th>Dibutylamine</th>\n",
       "      <th>hippuric acid</th>\n",
       "      <th>2-mercaptobenzothiazole</th>\n",
       "      <th>N-acetyl-glucosaminic acid</th>\n",
       "      <th>2-phenylacetamide</th>\n",
       "      <th>Groups</th>\n",
       "      <th>lys-Ile/lys-leu</th>\n",
       "    </tr>\n",
       "  </thead>\n",
       "  <tbody>\n",
       "    <tr>\n",
       "      <th>0</th>\n",
       "      <td>344514.838847</td>\n",
       "      <td>123738.863361</td>\n",
       "      <td>7276.206050</td>\n",
       "      <td>3942.561187</td>\n",
       "      <td>107672.229359</td>\n",
       "      <td>2.818504e+06</td>\n",
       "      <td>RCC</td>\n",
       "      <td>5.225528e+05</td>\n",
       "    </tr>\n",
       "    <tr>\n",
       "      <th>1</th>\n",
       "      <td>566946.267693</td>\n",
       "      <td>117934.731942</td>\n",
       "      <td>4049.040213</td>\n",
       "      <td>36871.411846</td>\n",
       "      <td>94714.545602</td>\n",
       "      <td>1.781136e+06</td>\n",
       "      <td>RCC</td>\n",
       "      <td>1.692409e+06</td>\n",
       "    </tr>\n",
       "    <tr>\n",
       "      <th>2</th>\n",
       "      <td>507622.708725</td>\n",
       "      <td>352899.235704</td>\n",
       "      <td>1191.185002</td>\n",
       "      <td>15746.465206</td>\n",
       "      <td>80282.421425</td>\n",
       "      <td>9.520561e+05</td>\n",
       "      <td>RCC</td>\n",
       "      <td>8.406171e+05</td>\n",
       "    </tr>\n",
       "    <tr>\n",
       "      <th>3</th>\n",
       "      <td>590259.167426</td>\n",
       "      <td>351289.507895</td>\n",
       "      <td>1384.507710</td>\n",
       "      <td>41132.333747</td>\n",
       "      <td>140790.012284</td>\n",
       "      <td>6.824689e+05</td>\n",
       "      <td>RCC</td>\n",
       "      <td>1.085230e+06</td>\n",
       "    </tr>\n",
       "    <tr>\n",
       "      <th>4</th>\n",
       "      <td>322294.000442</td>\n",
       "      <td>165126.186787</td>\n",
       "      <td>5505.012787</td>\n",
       "      <td>17861.908096</td>\n",
       "      <td>256558.919952</td>\n",
       "      <td>2.297574e+06</td>\n",
       "      <td>RCC</td>\n",
       "      <td>7.968095e+05</td>\n",
       "    </tr>\n",
       "  </tbody>\n",
       "</table>\n",
       "</div>"
      ],
      "text/plain": [
       "   hippurate-mannitol   Dibutylamine  hippuric acid  2-mercaptobenzothiazole   \n",
       "0       344514.838847  123738.863361    7276.206050              3942.561187  \\\n",
       "1       566946.267693  117934.731942    4049.040213             36871.411846   \n",
       "2       507622.708725  352899.235704    1191.185002             15746.465206   \n",
       "3       590259.167426  351289.507895    1384.507710             41132.333747   \n",
       "4       322294.000442  165126.186787    5505.012787             17861.908096   \n",
       "\n",
       "   N-acetyl-glucosaminic acid  2-phenylacetamide Groups  lys-Ile/lys-leu  \n",
       "0               107672.229359       2.818504e+06    RCC     5.225528e+05  \n",
       "1                94714.545602       1.781136e+06    RCC     1.692409e+06  \n",
       "2                80282.421425       9.520561e+05    RCC     8.406171e+05  \n",
       "3               140790.012284       6.824689e+05    RCC     1.085230e+06  \n",
       "4               256558.919952       2.297574e+06    RCC     7.968095e+05  "
      ]
     },
     "execution_count": 26,
     "metadata": {},
     "output_type": "execute_result"
    }
   ],
   "source": [
    "df.head()"
   ]
  },
  {
   "cell_type": "code",
   "execution_count": 27,
   "id": "9589934a",
   "metadata": {},
   "outputs": [],
   "source": [
    "df['Groups'] = df['Groups'].map({'Control': 0, 'RCC': 1})"
   ]
  },
  {
   "cell_type": "code",
   "execution_count": 28,
   "id": "5a572768",
   "metadata": {},
   "outputs": [
    {
     "data": {
      "text/html": [
       "<div>\n",
       "<style scoped>\n",
       "    .dataframe tbody tr th:only-of-type {\n",
       "        vertical-align: middle;\n",
       "    }\n",
       "\n",
       "    .dataframe tbody tr th {\n",
       "        vertical-align: top;\n",
       "    }\n",
       "\n",
       "    .dataframe thead th {\n",
       "        text-align: right;\n",
       "    }\n",
       "</style>\n",
       "<table border=\"1\" class=\"dataframe\">\n",
       "  <thead>\n",
       "    <tr style=\"text-align: right;\">\n",
       "      <th></th>\n",
       "      <th>hippurate-mannitol</th>\n",
       "      <th>Dibutylamine</th>\n",
       "      <th>hippuric acid</th>\n",
       "      <th>2-mercaptobenzothiazole</th>\n",
       "      <th>N-acetyl-glucosaminic acid</th>\n",
       "      <th>2-phenylacetamide</th>\n",
       "      <th>Groups</th>\n",
       "      <th>lys-Ile/lys-leu</th>\n",
       "    </tr>\n",
       "  </thead>\n",
       "  <tbody>\n",
       "    <tr>\n",
       "      <th>0</th>\n",
       "      <td>344514.838847</td>\n",
       "      <td>123738.863361</td>\n",
       "      <td>7276.206050</td>\n",
       "      <td>3942.561187</td>\n",
       "      <td>107672.229359</td>\n",
       "      <td>2.818504e+06</td>\n",
       "      <td>1</td>\n",
       "      <td>5.225528e+05</td>\n",
       "    </tr>\n",
       "    <tr>\n",
       "      <th>1</th>\n",
       "      <td>566946.267693</td>\n",
       "      <td>117934.731942</td>\n",
       "      <td>4049.040213</td>\n",
       "      <td>36871.411846</td>\n",
       "      <td>94714.545602</td>\n",
       "      <td>1.781136e+06</td>\n",
       "      <td>1</td>\n",
       "      <td>1.692409e+06</td>\n",
       "    </tr>\n",
       "    <tr>\n",
       "      <th>2</th>\n",
       "      <td>507622.708725</td>\n",
       "      <td>352899.235704</td>\n",
       "      <td>1191.185002</td>\n",
       "      <td>15746.465206</td>\n",
       "      <td>80282.421425</td>\n",
       "      <td>9.520561e+05</td>\n",
       "      <td>1</td>\n",
       "      <td>8.406171e+05</td>\n",
       "    </tr>\n",
       "    <tr>\n",
       "      <th>3</th>\n",
       "      <td>590259.167426</td>\n",
       "      <td>351289.507895</td>\n",
       "      <td>1384.507710</td>\n",
       "      <td>41132.333747</td>\n",
       "      <td>140790.012284</td>\n",
       "      <td>6.824689e+05</td>\n",
       "      <td>1</td>\n",
       "      <td>1.085230e+06</td>\n",
       "    </tr>\n",
       "    <tr>\n",
       "      <th>4</th>\n",
       "      <td>322294.000442</td>\n",
       "      <td>165126.186787</td>\n",
       "      <td>5505.012787</td>\n",
       "      <td>17861.908096</td>\n",
       "      <td>256558.919952</td>\n",
       "      <td>2.297574e+06</td>\n",
       "      <td>1</td>\n",
       "      <td>7.968095e+05</td>\n",
       "    </tr>\n",
       "  </tbody>\n",
       "</table>\n",
       "</div>"
      ],
      "text/plain": [
       "   hippurate-mannitol   Dibutylamine  hippuric acid  2-mercaptobenzothiazole   \n",
       "0       344514.838847  123738.863361    7276.206050              3942.561187  \\\n",
       "1       566946.267693  117934.731942    4049.040213             36871.411846   \n",
       "2       507622.708725  352899.235704    1191.185002             15746.465206   \n",
       "3       590259.167426  351289.507895    1384.507710             41132.333747   \n",
       "4       322294.000442  165126.186787    5505.012787             17861.908096   \n",
       "\n",
       "   N-acetyl-glucosaminic acid  2-phenylacetamide  Groups  lys-Ile/lys-leu  \n",
       "0               107672.229359       2.818504e+06       1     5.225528e+05  \n",
       "1                94714.545602       1.781136e+06       1     1.692409e+06  \n",
       "2                80282.421425       9.520561e+05       1     8.406171e+05  \n",
       "3               140790.012284       6.824689e+05       1     1.085230e+06  \n",
       "4               256558.919952       2.297574e+06       1     7.968095e+05  "
      ]
     },
     "execution_count": 28,
     "metadata": {},
     "output_type": "execute_result"
    }
   ],
   "source": [
    "df.head()"
   ]
  },
  {
   "cell_type": "code",
   "execution_count": 29,
   "id": "6a589f34",
   "metadata": {},
   "outputs": [],
   "source": [
    "# Separate target and features\n",
    "target = \"Groups\" # Replace with your target column name.\n",
    "X = df.drop(target, axis=1)\n",
    "y = df[target]"
   ]
  },
  {
   "cell_type": "code",
   "execution_count": 30,
   "id": "ef7583f5",
   "metadata": {},
   "outputs": [],
   "source": [
    "# Split the data into train and test sets\n",
    "X_train, X_test, y_train, y_test = train_test_split(X, y, \n",
    "                                                    test_size=0.2, \n",
    "                                                    random_state=42) \n",
    "# Adjust test_size and random_state as needed"
   ]
  },
  {
   "cell_type": "code",
   "execution_count": 31,
   "id": "f8812963",
   "metadata": {},
   "outputs": [],
   "source": [
    "# Combine the features and target for train and test dataframes\n",
    "RCCtrain_df = pd.concat([X_train, y_train], axis=1)\n",
    "RCCtest_df = pd.concat([X_test, y_test], axis=1)"
   ]
  },
  {
   "cell_type": "code",
   "execution_count": 33,
   "id": "bfbf641b",
   "metadata": {},
   "outputs": [
    {
     "data": {
      "text/html": [
       "<div>\n",
       "<style scoped>\n",
       "    .dataframe tbody tr th:only-of-type {\n",
       "        vertical-align: middle;\n",
       "    }\n",
       "\n",
       "    .dataframe tbody tr th {\n",
       "        vertical-align: top;\n",
       "    }\n",
       "\n",
       "    .dataframe thead th {\n",
       "        text-align: right;\n",
       "    }\n",
       "</style>\n",
       "<table border=\"1\" class=\"dataframe\">\n",
       "  <thead>\n",
       "    <tr style=\"text-align: right;\">\n",
       "      <th></th>\n",
       "      <th>hippurate-mannitol</th>\n",
       "      <th>Dibutylamine</th>\n",
       "      <th>hippuric acid</th>\n",
       "      <th>2-mercaptobenzothiazole</th>\n",
       "      <th>N-acetyl-glucosaminic acid</th>\n",
       "      <th>2-phenylacetamide</th>\n",
       "      <th>lys-Ile/lys-leu</th>\n",
       "      <th>Groups</th>\n",
       "    </tr>\n",
       "  </thead>\n",
       "  <tbody>\n",
       "    <tr>\n",
       "      <th>224</th>\n",
       "      <td>2.379022e+06</td>\n",
       "      <td>103829.313655</td>\n",
       "      <td>16120.784491</td>\n",
       "      <td>5183.678824</td>\n",
       "      <td>68247.343844</td>\n",
       "      <td>5.252678e+06</td>\n",
       "      <td>1.112001e+06</td>\n",
       "      <td>0</td>\n",
       "    </tr>\n",
       "    <tr>\n",
       "      <th>6</th>\n",
       "      <td>6.190551e+05</td>\n",
       "      <td>80520.905159</td>\n",
       "      <td>18428.529659</td>\n",
       "      <td>10722.213325</td>\n",
       "      <td>50565.826913</td>\n",
       "      <td>3.180798e+06</td>\n",
       "      <td>3.681814e+05</td>\n",
       "      <td>1</td>\n",
       "    </tr>\n",
       "    <tr>\n",
       "      <th>28</th>\n",
       "      <td>1.112162e+06</td>\n",
       "      <td>407921.911864</td>\n",
       "      <td>1440.743047</td>\n",
       "      <td>122186.252174</td>\n",
       "      <td>94474.316727</td>\n",
       "      <td>1.384680e+06</td>\n",
       "      <td>2.822377e+03</td>\n",
       "      <td>1</td>\n",
       "    </tr>\n",
       "    <tr>\n",
       "      <th>198</th>\n",
       "      <td>2.697248e+06</td>\n",
       "      <td>66899.646344</td>\n",
       "      <td>63881.438382</td>\n",
       "      <td>1656.367242</td>\n",
       "      <td>105111.851103</td>\n",
       "      <td>4.960717e+06</td>\n",
       "      <td>3.560525e+03</td>\n",
       "      <td>0</td>\n",
       "    </tr>\n",
       "    <tr>\n",
       "      <th>87</th>\n",
       "      <td>4.488671e+05</td>\n",
       "      <td>162471.909775</td>\n",
       "      <td>17500.447111</td>\n",
       "      <td>770.756689</td>\n",
       "      <td>1831.944831</td>\n",
       "      <td>4.988279e+06</td>\n",
       "      <td>5.784373e+02</td>\n",
       "      <td>0</td>\n",
       "    </tr>\n",
       "  </tbody>\n",
       "</table>\n",
       "</div>"
      ],
      "text/plain": [
       "     hippurate-mannitol   Dibutylamine  hippuric acid   \n",
       "224        2.379022e+06  103829.313655   16120.784491  \\\n",
       "6          6.190551e+05   80520.905159   18428.529659   \n",
       "28         1.112162e+06  407921.911864    1440.743047   \n",
       "198        2.697248e+06   66899.646344   63881.438382   \n",
       "87         4.488671e+05  162471.909775   17500.447111   \n",
       "\n",
       "     2-mercaptobenzothiazole  N-acetyl-glucosaminic acid  2-phenylacetamide   \n",
       "224              5183.678824                68247.343844       5.252678e+06  \\\n",
       "6               10722.213325                50565.826913       3.180798e+06   \n",
       "28             122186.252174                94474.316727       1.384680e+06   \n",
       "198              1656.367242               105111.851103       4.960717e+06   \n",
       "87                770.756689                 1831.944831       4.988279e+06   \n",
       "\n",
       "     lys-Ile/lys-leu  Groups  \n",
       "224     1.112001e+06       0  \n",
       "6       3.681814e+05       1  \n",
       "28      2.822377e+03       1  \n",
       "198     3.560525e+03       0  \n",
       "87      5.784373e+02       0  "
      ]
     },
     "execution_count": 33,
     "metadata": {},
     "output_type": "execute_result"
    }
   ],
   "source": [
    "RCCtest_df.head()"
   ]
  },
  {
   "cell_type": "code",
   "execution_count": 35,
   "id": "d72377bb",
   "metadata": {},
   "outputs": [],
   "source": [
    "# Save the train and test dataframes as csv files\n",
    "\n",
    "#RCCtrain_df.to_excel(\"RCC_train_dataframe.xlsx\", index=False)\n",
    "#RCCtest_df.to_excel(\"RCC_test_dataframe.xlsx\", index=False)"
   ]
  },
  {
   "cell_type": "markdown",
   "id": "6d76e8bc",
   "metadata": {},
   "source": [
    "## Ovarian metabolomics data"
   ]
  },
  {
   "cell_type": "code",
   "execution_count": null,
   "id": "3470e586",
   "metadata": {},
   "outputs": [],
   "source": []
  },
  {
   "cell_type": "code",
   "execution_count": null,
   "id": "e01afa23",
   "metadata": {},
   "outputs": [],
   "source": []
  },
  {
   "cell_type": "code",
   "execution_count": null,
   "id": "7bbe8f09",
   "metadata": {},
   "outputs": [],
   "source": []
  },
  {
   "cell_type": "code",
   "execution_count": null,
   "id": "9b966162",
   "metadata": {},
   "outputs": [],
   "source": []
  },
  {
   "cell_type": "code",
   "execution_count": null,
   "id": "beb34e79",
   "metadata": {},
   "outputs": [],
   "source": []
  }
 ],
 "metadata": {
  "kernelspec": {
   "display_name": "Python 3 (ipykernel)",
   "language": "python",
   "name": "python3"
  },
  "language_info": {
   "codemirror_mode": {
    "name": "ipython",
    "version": 3
   },
   "file_extension": ".py",
   "mimetype": "text/x-python",
   "name": "python",
   "nbconvert_exporter": "python",
   "pygments_lexer": "ipython3",
   "version": "3.9.16"
  }
 },
 "nbformat": 4,
 "nbformat_minor": 5
}
